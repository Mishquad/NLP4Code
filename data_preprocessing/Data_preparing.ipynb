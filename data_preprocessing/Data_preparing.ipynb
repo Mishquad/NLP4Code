{
 "cells": [
  {
   "cell_type": "code",
   "execution_count": 89,
   "id": "4102072f-0e42-4d12-8536-3538c239ed00",
   "metadata": {},
   "outputs": [],
   "source": [
    "import os\n",
    "import pandas as pd\n",
    "import numpy as np"
   ]
  },
  {
   "cell_type": "markdown",
   "id": "34d1d081-d445-41e3-99dd-f8effba758d2",
   "metadata": {},
   "source": [
    "# EDA"
   ]
  },
  {
   "cell_type": "code",
   "execution_count": 90,
   "id": "181ec903-c1c1-41b4-8f88-b9ff2e51c466",
   "metadata": {},
   "outputs": [],
   "source": [
    "table = pd.read_csv(\"Datasets/raw_data/data_train.csv\")\n",
    "table = table.drop(columns=['Unnamed: 0'])"
   ]
  },
  {
   "cell_type": "code",
   "execution_count": 91,
   "id": "d378d85f-440e-487a-b660-54f54c431aba",
   "metadata": {},
   "outputs": [
    {
     "data": {
      "text/html": [
       "<div>\n",
       "<style scoped>\n",
       "    .dataframe tbody tr th:only-of-type {\n",
       "        vertical-align: middle;\n",
       "    }\n",
       "\n",
       "    .dataframe tbody tr th {\n",
       "        vertical-align: top;\n",
       "    }\n",
       "\n",
       "    .dataframe thead th {\n",
       "        text-align: right;\n",
       "    }\n",
       "</style>\n",
       "<table border=\"1\" class=\"dataframe\">\n",
       "  <thead>\n",
       "    <tr style=\"text-align: right;\">\n",
       "      <th></th>\n",
       "      <th>train</th>\n",
       "    </tr>\n",
       "  </thead>\n",
       "  <tbody>\n",
       "    <tr>\n",
       "      <th>0</th>\n",
       "      <td>\\nBelow is an instruction for a coding task. C...</td>\n",
       "    </tr>\n",
       "    <tr>\n",
       "      <th>1</th>\n",
       "      <td>\\nBelow is an instruction for a coding task. C...</td>\n",
       "    </tr>\n",
       "    <tr>\n",
       "      <th>2</th>\n",
       "      <td>\\nBelow is an instruction for a coding task. C...</td>\n",
       "    </tr>\n",
       "    <tr>\n",
       "      <th>3</th>\n",
       "      <td>\\nBelow is an instruction for a coding task. C...</td>\n",
       "    </tr>\n",
       "    <tr>\n",
       "      <th>4</th>\n",
       "      <td>\\nBelow is an instruction for a coding task. C...</td>\n",
       "    </tr>\n",
       "    <tr>\n",
       "      <th>...</th>\n",
       "      <td>...</td>\n",
       "    </tr>\n",
       "    <tr>\n",
       "      <th>10193</th>\n",
       "      <td>\\nBelow is an instruction for a coding task. C...</td>\n",
       "    </tr>\n",
       "    <tr>\n",
       "      <th>10194</th>\n",
       "      <td>\\nBelow is an instruction for a coding task. C...</td>\n",
       "    </tr>\n",
       "    <tr>\n",
       "      <th>10195</th>\n",
       "      <td>\\nBelow is an instruction for a coding task. C...</td>\n",
       "    </tr>\n",
       "    <tr>\n",
       "      <th>10196</th>\n",
       "      <td>\\nBelow is an instruction for a coding task. C...</td>\n",
       "    </tr>\n",
       "    <tr>\n",
       "      <th>10197</th>\n",
       "      <td>\\nBelow is an instruction for a coding task. C...</td>\n",
       "    </tr>\n",
       "  </tbody>\n",
       "</table>\n",
       "<p>10198 rows × 1 columns</p>\n",
       "</div>"
      ],
      "text/plain": [
       "                                                   train\n",
       "0      \\nBelow is an instruction for a coding task. C...\n",
       "1      \\nBelow is an instruction for a coding task. C...\n",
       "2      \\nBelow is an instruction for a coding task. C...\n",
       "3      \\nBelow is an instruction for a coding task. C...\n",
       "4      \\nBelow is an instruction for a coding task. C...\n",
       "...                                                  ...\n",
       "10193  \\nBelow is an instruction for a coding task. C...\n",
       "10194  \\nBelow is an instruction for a coding task. C...\n",
       "10195  \\nBelow is an instruction for a coding task. C...\n",
       "10196  \\nBelow is an instruction for a coding task. C...\n",
       "10197  \\nBelow is an instruction for a coding task. C...\n",
       "\n",
       "[10198 rows x 1 columns]"
      ]
     },
     "execution_count": 91,
     "metadata": {},
     "output_type": "execute_result"
    }
   ],
   "source": [
    "table"
   ]
  },
  {
   "cell_type": "code",
   "execution_count": 92,
   "id": "3c13716a-fa59-4385-b39d-a47ef4305186",
   "metadata": {},
   "outputs": [
    {
     "data": {
      "text/plain": [
       "'\\nBelow is an instruction for a coding task. Complete the task by writing python code, and explaining it.\\n### '"
      ]
     },
     "execution_count": 92,
     "metadata": {},
     "output_type": "execute_result"
    }
   ],
   "source": [
    "table['train'][0].split(\"Instruction:\\n\")[0]"
   ]
  },
  {
   "cell_type": "code",
   "execution_count": 93,
   "id": "47a3617d-a57d-49fe-88df-3d564bb3ff4f",
   "metadata": {},
   "outputs": [
    {
     "data": {
      "text/plain": [
       "'def myfunc(listitems):\\n\\n    final=[]\\n\\n    for strchar in listitems:\\n\\n        for letters in strchar:\\n\\n            if letters in (\\'a\\',\\'e\\',\\'i\\',\\'o\\',\\'u\\', \\'A\\',\\'E\\',\\'I\\',\\'O\\',\\'U\\'):\\n\\n                strchar = strchar.replace(letters,\"\")            \\n\\n        final.append(strchar) \\n\\n    return final\\n\\nmyfunc([\"rohan\", \"END\"])\\n\\n# In[43]\\n\\n### Response:\\nThere is an error of type \\'missing_colon\\' on the line \\'# In[43]\\', the correct code should be \\'# In[43]:\\'.\\n\\ndef myfunc(listitems):\\n\\n    final=[]\\n\\n    for strchar in listitems:\\n\\n        for letters in strchar:\\n\\n            if letters in (\\'a\\',\\'e\\',\\'i\\',\\'o\\',\\'u\\', \\'A\\',\\'E\\',\\'I\\',\\'O\\',\\'U\\'):\\n\\n                strchar = strchar.replace(letters,\"\")            \\n\\n        final.append(strchar) \\n\\n    return final\\n\\nmyfunc([\"rohan\", \"END\"])\\n\\n# In[43]:\\n\\t'"
      ]
     },
     "execution_count": 93,
     "metadata": {},
     "output_type": "execute_result"
    }
   ],
   "source": [
    "table['train'][0].split(\"Input:\\n\")[1]"
   ]
  },
  {
   "cell_type": "code",
   "execution_count": 94,
   "id": "c50b9d2a-041c-49ea-ad47-29b463911e5f",
   "metadata": {},
   "outputs": [
    {
     "name": "stdout",
     "output_type": "stream",
     "text": [
      "0\n",
      "5000\n",
      "10000\n"
     ]
    }
   ],
   "source": [
    "for i in range(len(table)):\n",
    "    prompt = table['train'][i].split(\"Instruction:\\n\")[0]\n",
    "    prompt = prompt.replace(\"\\n\", \"\")\n",
    "    prompt = prompt.replace(\"#\", \"\")\n",
    "\n",
    "    text = table['train'][i].split(\"Input:\\n\")[1]\n",
    "    input = text.split(\"Response:\\n\")[0]\n",
    "    output = text.split(\"Response:\\n\")[1]\n",
    "    \n",
    "    explanation, correct_code = output.split('\\n', 1)\n",
    "    explanation = explanation.strip()\n",
    "    correct_code = correct_code.strip()\n",
    "    \n",
    "    table.loc[i, 'prompt'] = prompt\n",
    "    table.loc[i, 'input'] = input\n",
    "    table.loc[i, 'output'] = output\n",
    "    table.loc[i, 'explanation'] = explanation\n",
    "    table.loc[i, 'correct_code'] = correct_code\n",
    "    \n",
    "    if i%5000 == 0:\n",
    "        print(i)"
   ]
  },
  {
   "cell_type": "code",
   "execution_count": 98,
   "id": "8cab352b-d755-4b8d-b32e-b9aa90e7d3f0",
   "metadata": {},
   "outputs": [
    {
     "name": "stdout",
     "output_type": "stream",
     "text": [
      "def compute_hcf(x, y):\n",
      "\n",
      "    if x > y:\n",
      "\n",
      "        smaller = y\n",
      "\n",
      "    else:\n",
      "\n",
      "        smaller = x\n",
      "\n",
      "    for i in range(1, smaller+1):\n",
      "\n",
      "        if((x % i == 0) and (y % i == 0)):\n",
      "\n",
      "            hcf = i\n",
      "\n",
      "    return hcf\n"
     ]
    }
   ],
   "source": [
    "print(table['correct_code'][1000])"
   ]
  },
  {
   "cell_type": "code",
   "execution_count": 97,
   "id": "3ca2fce9-4eb1-4e4f-b21b-0f86d79d3913",
   "metadata": {},
   "outputs": [
    {
     "data": {
      "text/html": [
       "<div>\n",
       "<style scoped>\n",
       "    .dataframe tbody tr th:only-of-type {\n",
       "        vertical-align: middle;\n",
       "    }\n",
       "\n",
       "    .dataframe tbody tr th {\n",
       "        vertical-align: top;\n",
       "    }\n",
       "\n",
       "    .dataframe thead th {\n",
       "        text-align: right;\n",
       "    }\n",
       "</style>\n",
       "<table border=\"1\" class=\"dataframe\">\n",
       "  <thead>\n",
       "    <tr style=\"text-align: right;\">\n",
       "      <th></th>\n",
       "      <th>prompt</th>\n",
       "      <th>input</th>\n",
       "      <th>output</th>\n",
       "      <th>explanation</th>\n",
       "      <th>correct_code</th>\n",
       "    </tr>\n",
       "  </thead>\n",
       "  <tbody>\n",
       "    <tr>\n",
       "      <th>0</th>\n",
       "      <td>Below is an instruction for a coding task. Com...</td>\n",
       "      <td>def myfunc(listitems):\\n\\n    final=[]\\n\\n    ...</td>\n",
       "      <td>There is an error of type 'missing_colon' on t...</td>\n",
       "      <td>There is an error of type 'missing_colon' on t...</td>\n",
       "      <td>def myfunc(listitems):\\n\\n    final=[]\\n\\n    ...</td>\n",
       "    </tr>\n",
       "    <tr>\n",
       "      <th>1</th>\n",
       "      <td>Below is an instruction for a coding task. Com...</td>\n",
       "      <td>def tail(n, iterable)    \\n\\n    from collecti...</td>\n",
       "      <td>There is an error of type 'missing_colon' on t...</td>\n",
       "      <td>There is an error of type 'missing_colon' on t...</td>\n",
       "      <td>def tail(n, iterable):    \\n\\n    from collect...</td>\n",
       "    </tr>\n",
       "    <tr>\n",
       "      <th>2</th>\n",
       "      <td>Below is an instruction for a coding task. Com...</td>\n",
       "      <td>number_dict = {\\n\\n1: 'one',\\n\\n2: 'two',\\n\\n3...</td>\n",
       "      <td>There is an error of type 'missing_colon' on t...</td>\n",
       "      <td>There is an error of type 'missing_colon' on t...</td>\n",
       "      <td>number_dict = {\\n\\n1: 'one',\\n\\n2: 'two',\\n\\n3...</td>\n",
       "    </tr>\n",
       "    <tr>\n",
       "      <th>3</th>\n",
       "      <td>Below is an instruction for a coding task. Com...</td>\n",
       "      <td>d1 = {'a': 100, 'b': 200}\\n\\nd2 = 'x': 300, 'y...</td>\n",
       "      <td>There is an error of type 'missing_bracket' on...</td>\n",
       "      <td>There is an error of type 'missing_bracket' on...</td>\n",
       "      <td>d1 = {'a': 100, 'b': 200}\\n\\nd2 = {'x': 300, '...</td>\n",
       "    </tr>\n",
       "    <tr>\n",
       "      <th>4</th>\n",
       "      <td>Below is an instruction for a coding task. Com...</td>\n",
       "      <td>\\n = 900\\n\\nupper = 1000\\n\\nprint(\"Prime numbe...</td>\n",
       "      <td>There is an error of type 'undefined_var' on t...</td>\n",
       "      <td>There is an error of type 'undefined_var' on t...</td>\n",
       "      <td>lower = 900\\n\\nupper = 1000\\n\\nprint(\"Prime nu...</td>\n",
       "    </tr>\n",
       "    <tr>\n",
       "      <th>...</th>\n",
       "      <td>...</td>\n",
       "      <td>...</td>\n",
       "      <td>...</td>\n",
       "      <td>...</td>\n",
       "      <td>...</td>\n",
       "    </tr>\n",
       "    <tr>\n",
       "      <th>10193</th>\n",
       "      <td>Below is an instruction for a coding task. Com...</td>\n",
       "      <td>x = {'a' : 1, 'b' : 2, 'c' : 3}\\n\\ny = {'x' : ...</td>\n",
       "      <td>There is an error of type 'missing_bracket' on...</td>\n",
       "      <td>There is an error of type 'missing_bracket' on...</td>\n",
       "      <td>x = {'a' : 1, 'b' : 2, 'c' : 3}\\n\\ny = {'x' : ...</td>\n",
       "    </tr>\n",
       "    <tr>\n",
       "      <th>10194</th>\n",
       "      <td>Below is an instruction for a coding task. Com...</td>\n",
       "      <td>(x, y) = (1, 2)\\n\\nprint(f'Before swapping: x:...</td>\n",
       "      <td>There is an error of type 'missing_comma' on t...</td>\n",
       "      <td>There is an error of type 'missing_comma' on t...</td>\n",
       "      <td>(x, y) = (1, 2)\\n\\nprint(f'Before swapping: x:...</td>\n",
       "    </tr>\n",
       "    <tr>\n",
       "      <th>10195</th>\n",
       "      <td>Below is an instruction for a coding task. Com...</td>\n",
       "      <td>\\nfile1 = open('file1.txt', 'r') \\n\\nfile2 = o...</td>\n",
       "      <td>There is an error of type 'undefined_var' on t...</td>\n",
       "      <td>There is an error of type 'undefined_var' on t...</td>\n",
       "      <td>file1 = open('file1.txt', 'r') \\n\\nfile2 = ope...</td>\n",
       "    </tr>\n",
       "    <tr>\n",
       "      <th>10196</th>\n",
       "      <td>Below is an instruction for a coding task. Com...</td>\n",
       "      <td>\\ndef list_op(l1,l2,op):\\n\\n  if(op=='append')...</td>\n",
       "      <td>There is an error of type 'missing_comma' on t...</td>\n",
       "      <td>There is an error of type 'missing_comma' on t...</td>\n",
       "      <td>def list_op(l1,l2,op):\\n\\n  if(op=='append'):\\...</td>\n",
       "    </tr>\n",
       "    <tr>\n",
       "      <th>10197</th>\n",
       "      <td>Below is an instruction for a coding task. Com...</td>\n",
       "      <td>import random\\n\\nheads = 0\\n\\ntails = 0\\n\\nfor...</td>\n",
       "      <td>There is an error of type 'missing_comma' on t...</td>\n",
       "      <td>There is an error of type 'missing_comma' on t...</td>\n",
       "      <td>import random\\n\\nheads = 0\\n\\ntails = 0\\n\\nfor...</td>\n",
       "    </tr>\n",
       "  </tbody>\n",
       "</table>\n",
       "<p>10198 rows × 5 columns</p>\n",
       "</div>"
      ],
      "text/plain": [
       "                                                  prompt  \\\n",
       "0      Below is an instruction for a coding task. Com...   \n",
       "1      Below is an instruction for a coding task. Com...   \n",
       "2      Below is an instruction for a coding task. Com...   \n",
       "3      Below is an instruction for a coding task. Com...   \n",
       "4      Below is an instruction for a coding task. Com...   \n",
       "...                                                  ...   \n",
       "10193  Below is an instruction for a coding task. Com...   \n",
       "10194  Below is an instruction for a coding task. Com...   \n",
       "10195  Below is an instruction for a coding task. Com...   \n",
       "10196  Below is an instruction for a coding task. Com...   \n",
       "10197  Below is an instruction for a coding task. Com...   \n",
       "\n",
       "                                                   input  \\\n",
       "0      def myfunc(listitems):\\n\\n    final=[]\\n\\n    ...   \n",
       "1      def tail(n, iterable)    \\n\\n    from collecti...   \n",
       "2      number_dict = {\\n\\n1: 'one',\\n\\n2: 'two',\\n\\n3...   \n",
       "3      d1 = {'a': 100, 'b': 200}\\n\\nd2 = 'x': 300, 'y...   \n",
       "4      \\n = 900\\n\\nupper = 1000\\n\\nprint(\"Prime numbe...   \n",
       "...                                                  ...   \n",
       "10193  x = {'a' : 1, 'b' : 2, 'c' : 3}\\n\\ny = {'x' : ...   \n",
       "10194  (x, y) = (1, 2)\\n\\nprint(f'Before swapping: x:...   \n",
       "10195  \\nfile1 = open('file1.txt', 'r') \\n\\nfile2 = o...   \n",
       "10196  \\ndef list_op(l1,l2,op):\\n\\n  if(op=='append')...   \n",
       "10197  import random\\n\\nheads = 0\\n\\ntails = 0\\n\\nfor...   \n",
       "\n",
       "                                                  output  \\\n",
       "0      There is an error of type 'missing_colon' on t...   \n",
       "1      There is an error of type 'missing_colon' on t...   \n",
       "2      There is an error of type 'missing_colon' on t...   \n",
       "3      There is an error of type 'missing_bracket' on...   \n",
       "4      There is an error of type 'undefined_var' on t...   \n",
       "...                                                  ...   \n",
       "10193  There is an error of type 'missing_bracket' on...   \n",
       "10194  There is an error of type 'missing_comma' on t...   \n",
       "10195  There is an error of type 'undefined_var' on t...   \n",
       "10196  There is an error of type 'missing_comma' on t...   \n",
       "10197  There is an error of type 'missing_comma' on t...   \n",
       "\n",
       "                                             explanation  \\\n",
       "0      There is an error of type 'missing_colon' on t...   \n",
       "1      There is an error of type 'missing_colon' on t...   \n",
       "2      There is an error of type 'missing_colon' on t...   \n",
       "3      There is an error of type 'missing_bracket' on...   \n",
       "4      There is an error of type 'undefined_var' on t...   \n",
       "...                                                  ...   \n",
       "10193  There is an error of type 'missing_bracket' on...   \n",
       "10194  There is an error of type 'missing_comma' on t...   \n",
       "10195  There is an error of type 'undefined_var' on t...   \n",
       "10196  There is an error of type 'missing_comma' on t...   \n",
       "10197  There is an error of type 'missing_comma' on t...   \n",
       "\n",
       "                                            correct_code  \n",
       "0      def myfunc(listitems):\\n\\n    final=[]\\n\\n    ...  \n",
       "1      def tail(n, iterable):    \\n\\n    from collect...  \n",
       "2      number_dict = {\\n\\n1: 'one',\\n\\n2: 'two',\\n\\n3...  \n",
       "3      d1 = {'a': 100, 'b': 200}\\n\\nd2 = {'x': 300, '...  \n",
       "4      lower = 900\\n\\nupper = 1000\\n\\nprint(\"Prime nu...  \n",
       "...                                                  ...  \n",
       "10193  x = {'a' : 1, 'b' : 2, 'c' : 3}\\n\\ny = {'x' : ...  \n",
       "10194  (x, y) = (1, 2)\\n\\nprint(f'Before swapping: x:...  \n",
       "10195  file1 = open('file1.txt', 'r') \\n\\nfile2 = ope...  \n",
       "10196  def list_op(l1,l2,op):\\n\\n  if(op=='append'):\\...  \n",
       "10197  import random\\n\\nheads = 0\\n\\ntails = 0\\n\\nfor...  \n",
       "\n",
       "[10198 rows x 5 columns]"
      ]
     },
     "execution_count": 97,
     "metadata": {},
     "output_type": "execute_result"
    }
   ],
   "source": [
    "table = table.drop(columns=['train'])\n",
    "table"
   ]
  },
  {
   "cell_type": "code",
   "execution_count": 99,
   "id": "702077ac-35a4-46d3-b8d0-c1c749907851",
   "metadata": {},
   "outputs": [
    {
     "name": "stdout",
     "output_type": "stream",
     "text": [
      "Below is an instruction for a coding task. Complete the task by writing python code, and explaining it.     10198\n",
      "Name: prompt, dtype: int64\n"
     ]
    }
   ],
   "source": [
    "print(table['prompt'].value_counts())"
   ]
  },
  {
   "cell_type": "code",
   "execution_count": 100,
   "id": "acf19128-ab39-4cd2-9893-6389a2e9b783",
   "metadata": {},
   "outputs": [
    {
     "name": "stdout",
     "output_type": "stream",
     "text": [
      "Duplicates num in 'input' column: 3103\n",
      "Duplicates num in 'output' column: 3103\n",
      "NaN in prompt: 0\n",
      "NaN in input: 0\n",
      "NaN in output: 0\n",
      "NaN in explanation: 0\n",
      "NaN in correct_code: 0\n"
     ]
    }
   ],
   "source": [
    "print(f\"Duplicates num in 'input' column: {table['input'].duplicated().sum()}\")\n",
    "print(f\"Duplicates num in 'output' column: {table['input'].duplicated().sum()}\")\n",
    "\n",
    "for column in table.columns:\n",
    "    print(f\"NaN in {column}: {table[column].isna().sum()}\")"
   ]
  },
  {
   "cell_type": "code",
   "execution_count": 101,
   "id": "d4c2fd59-61bf-40c3-870c-d9d53278cd90",
   "metadata": {},
   "outputs": [],
   "source": [
    "table_uniq = table.drop_duplicates(subset=['input', 'output'],\n",
    "                                   keep='first')\n",
    "\n",
    "table_uniq = table_uniq.reset_index(drop=True)"
   ]
  },
  {
   "cell_type": "code",
   "execution_count": 102,
   "id": "e4776cc5-9a1f-4a1d-9a20-f150050b0884",
   "metadata": {},
   "outputs": [
    {
     "name": "stdout",
     "output_type": "stream",
     "text": [
      "New dataset size: (7095, 5)\n",
      "Duplicates num in 'input' column: 0\n",
      "Duplicates num in 'output' column: 0\n"
     ]
    }
   ],
   "source": [
    "print(f\"New dataset size: {table_uniq.shape}\")\n",
    "print(f\"Duplicates num in 'input' column: {table_uniq['input'].duplicated().sum()}\")\n",
    "print(f\"Duplicates num in 'output' column: {table_uniq['input'].duplicated().sum()}\")"
   ]
  },
  {
   "cell_type": "code",
   "execution_count": 103,
   "id": "0cc6afc6-95c6-40be-910a-91ceaa58f43a",
   "metadata": {},
   "outputs": [
    {
     "name": "stdout",
     "output_type": "stream",
     "text": [
      "Final table:\n"
     ]
    },
    {
     "data": {
      "text/html": [
       "<div>\n",
       "<style scoped>\n",
       "    .dataframe tbody tr th:only-of-type {\n",
       "        vertical-align: middle;\n",
       "    }\n",
       "\n",
       "    .dataframe tbody tr th {\n",
       "        vertical-align: top;\n",
       "    }\n",
       "\n",
       "    .dataframe thead th {\n",
       "        text-align: right;\n",
       "    }\n",
       "</style>\n",
       "<table border=\"1\" class=\"dataframe\">\n",
       "  <thead>\n",
       "    <tr style=\"text-align: right;\">\n",
       "      <th></th>\n",
       "      <th>prompt</th>\n",
       "      <th>input</th>\n",
       "      <th>output</th>\n",
       "      <th>explanation</th>\n",
       "      <th>correct_code</th>\n",
       "    </tr>\n",
       "  </thead>\n",
       "  <tbody>\n",
       "    <tr>\n",
       "      <th>0</th>\n",
       "      <td>Below is an instruction for a coding task. Com...</td>\n",
       "      <td>def myfunc(listitems):\\n\\n    final=[]\\n\\n    ...</td>\n",
       "      <td>There is an error of type 'missing_colon' on t...</td>\n",
       "      <td>There is an error of type 'missing_colon' on t...</td>\n",
       "      <td>def myfunc(listitems):\\n\\n    final=[]\\n\\n    ...</td>\n",
       "    </tr>\n",
       "    <tr>\n",
       "      <th>1</th>\n",
       "      <td>Below is an instruction for a coding task. Com...</td>\n",
       "      <td>def tail(n, iterable)    \\n\\n    from collecti...</td>\n",
       "      <td>There is an error of type 'missing_colon' on t...</td>\n",
       "      <td>There is an error of type 'missing_colon' on t...</td>\n",
       "      <td>def tail(n, iterable):    \\n\\n    from collect...</td>\n",
       "    </tr>\n",
       "    <tr>\n",
       "      <th>2</th>\n",
       "      <td>Below is an instruction for a coding task. Com...</td>\n",
       "      <td>number_dict = {\\n\\n1: 'one',\\n\\n2: 'two',\\n\\n3...</td>\n",
       "      <td>There is an error of type 'missing_colon' on t...</td>\n",
       "      <td>There is an error of type 'missing_colon' on t...</td>\n",
       "      <td>number_dict = {\\n\\n1: 'one',\\n\\n2: 'two',\\n\\n3...</td>\n",
       "    </tr>\n",
       "    <tr>\n",
       "      <th>3</th>\n",
       "      <td>Below is an instruction for a coding task. Com...</td>\n",
       "      <td>d1 = {'a': 100, 'b': 200}\\n\\nd2 = 'x': 300, 'y...</td>\n",
       "      <td>There is an error of type 'missing_bracket' on...</td>\n",
       "      <td>There is an error of type 'missing_bracket' on...</td>\n",
       "      <td>d1 = {'a': 100, 'b': 200}\\n\\nd2 = {'x': 300, '...</td>\n",
       "    </tr>\n",
       "    <tr>\n",
       "      <th>4</th>\n",
       "      <td>Below is an instruction for a coding task. Com...</td>\n",
       "      <td>\\n = 900\\n\\nupper = 1000\\n\\nprint(\"Prime numbe...</td>\n",
       "      <td>There is an error of type 'undefined_var' on t...</td>\n",
       "      <td>There is an error of type 'undefined_var' on t...</td>\n",
       "      <td>lower = 900\\n\\nupper = 1000\\n\\nprint(\"Prime nu...</td>\n",
       "    </tr>\n",
       "    <tr>\n",
       "      <th>...</th>\n",
       "      <td>...</td>\n",
       "      <td>...</td>\n",
       "      <td>...</td>\n",
       "      <td>...</td>\n",
       "      <td>...</td>\n",
       "    </tr>\n",
       "    <tr>\n",
       "      <th>7090</th>\n",
       "      <td>Below is an instruction for a coding task. Com...</td>\n",
       "      <td>\\nprint(\"Input a string: \")\\n\\nstr1 = input()\\...</td>\n",
       "      <td>There is an error of type 'missing_colon' on t...</td>\n",
       "      <td>There is an error of type 'missing_colon' on t...</td>\n",
       "      <td>print(\"Input a string: \")\\n\\nstr1 = input()\\n\\...</td>\n",
       "    </tr>\n",
       "    <tr>\n",
       "      <th>7091</th>\n",
       "      <td>Below is an instruction for a coding task. Com...</td>\n",
       "      <td>a = 10\\n\\nb = 20\\n\\nc = 30\\n\\nif 10 in {a, b, ...</td>\n",
       "      <td>There is an error of type 'missing_colon' on t...</td>\n",
       "      <td>There is an error of type 'missing_colon' on t...</td>\n",
       "      <td>a = 10\\n\\nb = 20\\n\\nc = 30\\n\\nif 10 in {a, b, ...</td>\n",
       "    </tr>\n",
       "    <tr>\n",
       "      <th>7092</th>\n",
       "      <td>Below is an instruction for a coding task. Com...</td>\n",
       "      <td>def binary_palindrome(n)\\n\\n\\ts=int(bin(n)[2:]...</td>\n",
       "      <td>There is an error of type 'missing_colon' on t...</td>\n",
       "      <td>There is an error of type 'missing_colon' on t...</td>\n",
       "      <td>def binary_palindrome(n):\\n\\n\\ts=int(bin(n)[2:...</td>\n",
       "    </tr>\n",
       "    <tr>\n",
       "      <th>7093</th>\n",
       "      <td>Below is an instruction for a coding task. Com...</td>\n",
       "      <td>kilometers = 10.0\\n\\nconv_fac = 0.621371\\n\\nmi...</td>\n",
       "      <td>There is an error of type 'missing_comma' on t...</td>\n",
       "      <td>There is an error of type 'missing_comma' on t...</td>\n",
       "      <td>kilometers = 10.0\\n\\nconv_fac = 0.621371\\n\\nmi...</td>\n",
       "    </tr>\n",
       "    <tr>\n",
       "      <th>7094</th>\n",
       "      <td>Below is an instruction for a coding task. Com...</td>\n",
       "      <td>\\nfile1 = open('file1.txt', 'r') \\n\\nfile2 = o...</td>\n",
       "      <td>There is an error of type 'undefined_var' on t...</td>\n",
       "      <td>There is an error of type 'undefined_var' on t...</td>\n",
       "      <td>file1 = open('file1.txt', 'r') \\n\\nfile2 = ope...</td>\n",
       "    </tr>\n",
       "  </tbody>\n",
       "</table>\n",
       "<p>7095 rows × 5 columns</p>\n",
       "</div>"
      ],
      "text/plain": [
       "                                                 prompt  \\\n",
       "0     Below is an instruction for a coding task. Com...   \n",
       "1     Below is an instruction for a coding task. Com...   \n",
       "2     Below is an instruction for a coding task. Com...   \n",
       "3     Below is an instruction for a coding task. Com...   \n",
       "4     Below is an instruction for a coding task. Com...   \n",
       "...                                                 ...   \n",
       "7090  Below is an instruction for a coding task. Com...   \n",
       "7091  Below is an instruction for a coding task. Com...   \n",
       "7092  Below is an instruction for a coding task. Com...   \n",
       "7093  Below is an instruction for a coding task. Com...   \n",
       "7094  Below is an instruction for a coding task. Com...   \n",
       "\n",
       "                                                  input  \\\n",
       "0     def myfunc(listitems):\\n\\n    final=[]\\n\\n    ...   \n",
       "1     def tail(n, iterable)    \\n\\n    from collecti...   \n",
       "2     number_dict = {\\n\\n1: 'one',\\n\\n2: 'two',\\n\\n3...   \n",
       "3     d1 = {'a': 100, 'b': 200}\\n\\nd2 = 'x': 300, 'y...   \n",
       "4     \\n = 900\\n\\nupper = 1000\\n\\nprint(\"Prime numbe...   \n",
       "...                                                 ...   \n",
       "7090  \\nprint(\"Input a string: \")\\n\\nstr1 = input()\\...   \n",
       "7091  a = 10\\n\\nb = 20\\n\\nc = 30\\n\\nif 10 in {a, b, ...   \n",
       "7092  def binary_palindrome(n)\\n\\n\\ts=int(bin(n)[2:]...   \n",
       "7093  kilometers = 10.0\\n\\nconv_fac = 0.621371\\n\\nmi...   \n",
       "7094  \\nfile1 = open('file1.txt', 'r') \\n\\nfile2 = o...   \n",
       "\n",
       "                                                 output  \\\n",
       "0     There is an error of type 'missing_colon' on t...   \n",
       "1     There is an error of type 'missing_colon' on t...   \n",
       "2     There is an error of type 'missing_colon' on t...   \n",
       "3     There is an error of type 'missing_bracket' on...   \n",
       "4     There is an error of type 'undefined_var' on t...   \n",
       "...                                                 ...   \n",
       "7090  There is an error of type 'missing_colon' on t...   \n",
       "7091  There is an error of type 'missing_colon' on t...   \n",
       "7092  There is an error of type 'missing_colon' on t...   \n",
       "7093  There is an error of type 'missing_comma' on t...   \n",
       "7094  There is an error of type 'undefined_var' on t...   \n",
       "\n",
       "                                            explanation  \\\n",
       "0     There is an error of type 'missing_colon' on t...   \n",
       "1     There is an error of type 'missing_colon' on t...   \n",
       "2     There is an error of type 'missing_colon' on t...   \n",
       "3     There is an error of type 'missing_bracket' on...   \n",
       "4     There is an error of type 'undefined_var' on t...   \n",
       "...                                                 ...   \n",
       "7090  There is an error of type 'missing_colon' on t...   \n",
       "7091  There is an error of type 'missing_colon' on t...   \n",
       "7092  There is an error of type 'missing_colon' on t...   \n",
       "7093  There is an error of type 'missing_comma' on t...   \n",
       "7094  There is an error of type 'undefined_var' on t...   \n",
       "\n",
       "                                           correct_code  \n",
       "0     def myfunc(listitems):\\n\\n    final=[]\\n\\n    ...  \n",
       "1     def tail(n, iterable):    \\n\\n    from collect...  \n",
       "2     number_dict = {\\n\\n1: 'one',\\n\\n2: 'two',\\n\\n3...  \n",
       "3     d1 = {'a': 100, 'b': 200}\\n\\nd2 = {'x': 300, '...  \n",
       "4     lower = 900\\n\\nupper = 1000\\n\\nprint(\"Prime nu...  \n",
       "...                                                 ...  \n",
       "7090  print(\"Input a string: \")\\n\\nstr1 = input()\\n\\...  \n",
       "7091  a = 10\\n\\nb = 20\\n\\nc = 30\\n\\nif 10 in {a, b, ...  \n",
       "7092  def binary_palindrome(n):\\n\\n\\ts=int(bin(n)[2:...  \n",
       "7093  kilometers = 10.0\\n\\nconv_fac = 0.621371\\n\\nmi...  \n",
       "7094  file1 = open('file1.txt', 'r') \\n\\nfile2 = ope...  \n",
       "\n",
       "[7095 rows x 5 columns]"
      ]
     },
     "execution_count": 103,
     "metadata": {},
     "output_type": "execute_result"
    }
   ],
   "source": [
    "print(\"Final table:\")\n",
    "table_uniq"
   ]
  },
  {
   "cell_type": "code",
   "execution_count": 106,
   "id": "bf116a01-1377-429b-8199-2f064a654979",
   "metadata": {},
   "outputs": [],
   "source": [
    "table_uniq.to_csv(\"Datasets/preprocessed_data/rag_data.csv\", index=False)"
   ]
  },
  {
   "cell_type": "code",
   "execution_count": null,
   "id": "2175977a-7439-485c-9520-133a05c25f4a",
   "metadata": {},
   "outputs": [],
   "source": []
  },
  {
   "cell_type": "markdown",
   "id": "04871e21-9818-4a30-b467-32b93265dce3",
   "metadata": {},
   "source": [
    "# Export into json"
   ]
  },
  {
   "cell_type": "code",
   "execution_count": null,
   "id": "4be04ea1-01a4-42a6-b77f-7ce096c1beeb",
   "metadata": {},
   "outputs": [],
   "source": [
    "# Sample of final json file\n",
    "\n",
    "# {\n",
    "#     \"prompt\":\"Below is an instruction for a coding task. Complete the task by writing python code, and explaining it. \",\n",
    "#     \"input\":\"def myfunc(listitems):\\n\\n    final=[]\\n\\n    for strchar in listitems:\\n\\n        for letters in strchar:\\n\\n            if letters in ('a','e','i','o','u', 'A','E','I','O','U'):\\n\\n                strchar = strchar.replace(letters,\\\"\\\")            \\n\\n        final.append(strchar) \\n\\n    return final\\n\\nmyfunc([\\\"rohan\\\", \\\"END\\\"])\\n\\n# In[43]\\n\\n### \",\n",
    "#     \"explanation\":\"There is an error of type 'missing_colon' on the line '# In[43]', the correct code should be '# In[43]:'.\",\n",
    "#     \"correct_code\":\"def myfunc(listitems):\\n\\n    final=[]\\n\\n    for strchar in listitems:\\n\\n        for letters in strchar:\\n\\n            if letters in ('a','e','i','o','u', 'A','E','I','O','U'):\\n\\n                strchar = strchar.replace(letters,\\\"\\\")            \\n\\n        final.append(strchar) \\n\\n    return final\\n\\nmyfunc([\\\"rohan\\\", \\\"END\\\"])\\n\\n# In[43]:\"\n",
    "# }"
   ]
  },
  {
   "cell_type": "code",
   "execution_count": 109,
   "id": "82759789-48f9-48e7-ba5f-59e34a6cfb40",
   "metadata": {},
   "outputs": [],
   "source": [
    "table_js = table_uniq.drop(columns=['output'])\n",
    "json_data = table_js.to_json(orient=\"records\", indent=4)\n",
    "\n",
    "with open(\"Datasets/preprocessed_data/rag_data.json\", \"w\") as json_file:\n",
    "    json_file.write(json_data)"
   ]
  },
  {
   "cell_type": "code",
   "execution_count": null,
   "id": "b02b6ca7-b13f-4865-95f0-3b046f8e75e1",
   "metadata": {},
   "outputs": [],
   "source": []
  }
 ],
 "metadata": {
  "kernelspec": {
   "display_name": "Python 3 (ipykernel)",
   "language": "python",
   "name": "python3"
  },
  "language_info": {
   "codemirror_mode": {
    "name": "ipython",
    "version": 3
   },
   "file_extension": ".py",
   "mimetype": "text/x-python",
   "name": "python",
   "nbconvert_exporter": "python",
   "pygments_lexer": "ipython3",
   "version": "3.11.0"
  }
 },
 "nbformat": 4,
 "nbformat_minor": 5
}
