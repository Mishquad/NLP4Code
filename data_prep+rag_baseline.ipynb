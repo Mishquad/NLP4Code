{
 "cells": [
  {
   "cell_type": "code",
   "execution_count": 1,
   "id": "4102072f-0e42-4d12-8536-3538c239ed00",
   "metadata": {},
   "outputs": [],
   "source": [
    "import os\n",
    "import pandas as pd\n",
    "import numpy as np"
   ]
  },
  {
   "cell_type": "markdown",
   "id": "34d1d081-d445-41e3-99dd-f8effba758d2",
   "metadata": {
    "jp-MarkdownHeadingCollapsed": true
   },
   "source": [
    "# EDA"
   ]
  },
  {
   "cell_type": "code",
   "execution_count": 90,
   "id": "181ec903-c1c1-41b4-8f88-b9ff2e51c466",
   "metadata": {},
   "outputs": [],
   "source": [
    "table = pd.read_csv(\"Datasets/raw_data/data_train.csv\")\n",
    "table = table.drop(columns=['Unnamed: 0'])"
   ]
  },
  {
   "cell_type": "code",
   "execution_count": 91,
   "id": "d378d85f-440e-487a-b660-54f54c431aba",
   "metadata": {},
   "outputs": [
    {
     "data": {
      "text/html": [
       "<div>\n",
       "<style scoped>\n",
       "    .dataframe tbody tr th:only-of-type {\n",
       "        vertical-align: middle;\n",
       "    }\n",
       "\n",
       "    .dataframe tbody tr th {\n",
       "        vertical-align: top;\n",
       "    }\n",
       "\n",
       "    .dataframe thead th {\n",
       "        text-align: right;\n",
       "    }\n",
       "</style>\n",
       "<table border=\"1\" class=\"dataframe\">\n",
       "  <thead>\n",
       "    <tr style=\"text-align: right;\">\n",
       "      <th></th>\n",
       "      <th>train</th>\n",
       "    </tr>\n",
       "  </thead>\n",
       "  <tbody>\n",
       "    <tr>\n",
       "      <th>0</th>\n",
       "      <td>\\nBelow is an instruction for a coding task. C...</td>\n",
       "    </tr>\n",
       "    <tr>\n",
       "      <th>1</th>\n",
       "      <td>\\nBelow is an instruction for a coding task. C...</td>\n",
       "    </tr>\n",
       "    <tr>\n",
       "      <th>2</th>\n",
       "      <td>\\nBelow is an instruction for a coding task. C...</td>\n",
       "    </tr>\n",
       "    <tr>\n",
       "      <th>3</th>\n",
       "      <td>\\nBelow is an instruction for a coding task. C...</td>\n",
       "    </tr>\n",
       "    <tr>\n",
       "      <th>4</th>\n",
       "      <td>\\nBelow is an instruction for a coding task. C...</td>\n",
       "    </tr>\n",
       "    <tr>\n",
       "      <th>...</th>\n",
       "      <td>...</td>\n",
       "    </tr>\n",
       "    <tr>\n",
       "      <th>10193</th>\n",
       "      <td>\\nBelow is an instruction for a coding task. C...</td>\n",
       "    </tr>\n",
       "    <tr>\n",
       "      <th>10194</th>\n",
       "      <td>\\nBelow is an instruction for a coding task. C...</td>\n",
       "    </tr>\n",
       "    <tr>\n",
       "      <th>10195</th>\n",
       "      <td>\\nBelow is an instruction for a coding task. C...</td>\n",
       "    </tr>\n",
       "    <tr>\n",
       "      <th>10196</th>\n",
       "      <td>\\nBelow is an instruction for a coding task. C...</td>\n",
       "    </tr>\n",
       "    <tr>\n",
       "      <th>10197</th>\n",
       "      <td>\\nBelow is an instruction for a coding task. C...</td>\n",
       "    </tr>\n",
       "  </tbody>\n",
       "</table>\n",
       "<p>10198 rows × 1 columns</p>\n",
       "</div>"
      ],
      "text/plain": [
       "                                                   train\n",
       "0      \\nBelow is an instruction for a coding task. C...\n",
       "1      \\nBelow is an instruction for a coding task. C...\n",
       "2      \\nBelow is an instruction for a coding task. C...\n",
       "3      \\nBelow is an instruction for a coding task. C...\n",
       "4      \\nBelow is an instruction for a coding task. C...\n",
       "...                                                  ...\n",
       "10193  \\nBelow is an instruction for a coding task. C...\n",
       "10194  \\nBelow is an instruction for a coding task. C...\n",
       "10195  \\nBelow is an instruction for a coding task. C...\n",
       "10196  \\nBelow is an instruction for a coding task. C...\n",
       "10197  \\nBelow is an instruction for a coding task. C...\n",
       "\n",
       "[10198 rows x 1 columns]"
      ]
     },
     "execution_count": 91,
     "metadata": {},
     "output_type": "execute_result"
    }
   ],
   "source": [
    "table"
   ]
  },
  {
   "cell_type": "code",
   "execution_count": 92,
   "id": "3c13716a-fa59-4385-b39d-a47ef4305186",
   "metadata": {},
   "outputs": [
    {
     "data": {
      "text/plain": [
       "'\\nBelow is an instruction for a coding task. Complete the task by writing python code, and explaining it.\\n### '"
      ]
     },
     "execution_count": 92,
     "metadata": {},
     "output_type": "execute_result"
    }
   ],
   "source": [
    "table['train'][0].split(\"Instruction:\\n\")[0]"
   ]
  },
  {
   "cell_type": "code",
   "execution_count": 93,
   "id": "47a3617d-a57d-49fe-88df-3d564bb3ff4f",
   "metadata": {},
   "outputs": [
    {
     "data": {
      "text/plain": [
       "'def myfunc(listitems):\\n\\n    final=[]\\n\\n    for strchar in listitems:\\n\\n        for letters in strchar:\\n\\n            if letters in (\\'a\\',\\'e\\',\\'i\\',\\'o\\',\\'u\\', \\'A\\',\\'E\\',\\'I\\',\\'O\\',\\'U\\'):\\n\\n                strchar = strchar.replace(letters,\"\")            \\n\\n        final.append(strchar) \\n\\n    return final\\n\\nmyfunc([\"rohan\", \"END\"])\\n\\n# In[43]\\n\\n### Response:\\nThere is an error of type \\'missing_colon\\' on the line \\'# In[43]\\', the correct code should be \\'# In[43]:\\'.\\n\\ndef myfunc(listitems):\\n\\n    final=[]\\n\\n    for strchar in listitems:\\n\\n        for letters in strchar:\\n\\n            if letters in (\\'a\\',\\'e\\',\\'i\\',\\'o\\',\\'u\\', \\'A\\',\\'E\\',\\'I\\',\\'O\\',\\'U\\'):\\n\\n                strchar = strchar.replace(letters,\"\")            \\n\\n        final.append(strchar) \\n\\n    return final\\n\\nmyfunc([\"rohan\", \"END\"])\\n\\n# In[43]:\\n\\t'"
      ]
     },
     "execution_count": 93,
     "metadata": {},
     "output_type": "execute_result"
    }
   ],
   "source": [
    "table['train'][0].split(\"Input:\\n\")[1]"
   ]
  },
  {
   "cell_type": "code",
   "execution_count": 94,
   "id": "c50b9d2a-041c-49ea-ad47-29b463911e5f",
   "metadata": {},
   "outputs": [
    {
     "name": "stdout",
     "output_type": "stream",
     "text": [
      "0\n",
      "5000\n",
      "10000\n"
     ]
    }
   ],
   "source": [
    "for i in range(len(table)):\n",
    "    prompt = table['train'][i].split(\"Instruction:\\n\")[0]\n",
    "    prompt = prompt.replace(\"\\n\", \"\")\n",
    "    prompt = prompt.replace(\"#\", \"\")\n",
    "\n",
    "    text = table['train'][i].split(\"Input:\\n\")[1]\n",
    "    input = text.split(\"Response:\\n\")[0]\n",
    "    output = text.split(\"Response:\\n\")[1]\n",
    "    \n",
    "    explanation, correct_code = output.split('\\n', 1)\n",
    "    explanation = explanation.strip()\n",
    "    correct_code = correct_code.strip()\n",
    "    \n",
    "    table.loc[i, 'prompt'] = prompt\n",
    "    table.loc[i, 'input'] = input\n",
    "    table.loc[i, 'output'] = output\n",
    "    table.loc[i, 'explanation'] = explanation\n",
    "    table.loc[i, 'correct_code'] = correct_code\n",
    "    \n",
    "    if i%5000 == 0:\n",
    "        print(i)"
   ]
  },
  {
   "cell_type": "code",
   "execution_count": 98,
   "id": "8cab352b-d755-4b8d-b32e-b9aa90e7d3f0",
   "metadata": {},
   "outputs": [
    {
     "name": "stdout",
     "output_type": "stream",
     "text": [
      "def compute_hcf(x, y):\n",
      "\n",
      "    if x > y:\n",
      "\n",
      "        smaller = y\n",
      "\n",
      "    else:\n",
      "\n",
      "        smaller = x\n",
      "\n",
      "    for i in range(1, smaller+1):\n",
      "\n",
      "        if((x % i == 0) and (y % i == 0)):\n",
      "\n",
      "            hcf = i\n",
      "\n",
      "    return hcf\n"
     ]
    }
   ],
   "source": [
    "print(table['correct_code'][1000])"
   ]
  },
  {
   "cell_type": "code",
   "execution_count": 97,
   "id": "3ca2fce9-4eb1-4e4f-b21b-0f86d79d3913",
   "metadata": {},
   "outputs": [
    {
     "data": {
      "text/html": [
       "<div>\n",
       "<style scoped>\n",
       "    .dataframe tbody tr th:only-of-type {\n",
       "        vertical-align: middle;\n",
       "    }\n",
       "\n",
       "    .dataframe tbody tr th {\n",
       "        vertical-align: top;\n",
       "    }\n",
       "\n",
       "    .dataframe thead th {\n",
       "        text-align: right;\n",
       "    }\n",
       "</style>\n",
       "<table border=\"1\" class=\"dataframe\">\n",
       "  <thead>\n",
       "    <tr style=\"text-align: right;\">\n",
       "      <th></th>\n",
       "      <th>prompt</th>\n",
       "      <th>input</th>\n",
       "      <th>output</th>\n",
       "      <th>explanation</th>\n",
       "      <th>correct_code</th>\n",
       "    </tr>\n",
       "  </thead>\n",
       "  <tbody>\n",
       "    <tr>\n",
       "      <th>0</th>\n",
       "      <td>Below is an instruction for a coding task. Com...</td>\n",
       "      <td>def myfunc(listitems):\\n\\n    final=[]\\n\\n    ...</td>\n",
       "      <td>There is an error of type 'missing_colon' on t...</td>\n",
       "      <td>There is an error of type 'missing_colon' on t...</td>\n",
       "      <td>def myfunc(listitems):\\n\\n    final=[]\\n\\n    ...</td>\n",
       "    </tr>\n",
       "    <tr>\n",
       "      <th>1</th>\n",
       "      <td>Below is an instruction for a coding task. Com...</td>\n",
       "      <td>def tail(n, iterable)    \\n\\n    from collecti...</td>\n",
       "      <td>There is an error of type 'missing_colon' on t...</td>\n",
       "      <td>There is an error of type 'missing_colon' on t...</td>\n",
       "      <td>def tail(n, iterable):    \\n\\n    from collect...</td>\n",
       "    </tr>\n",
       "    <tr>\n",
       "      <th>2</th>\n",
       "      <td>Below is an instruction for a coding task. Com...</td>\n",
       "      <td>number_dict = {\\n\\n1: 'one',\\n\\n2: 'two',\\n\\n3...</td>\n",
       "      <td>There is an error of type 'missing_colon' on t...</td>\n",
       "      <td>There is an error of type 'missing_colon' on t...</td>\n",
       "      <td>number_dict = {\\n\\n1: 'one',\\n\\n2: 'two',\\n\\n3...</td>\n",
       "    </tr>\n",
       "    <tr>\n",
       "      <th>3</th>\n",
       "      <td>Below is an instruction for a coding task. Com...</td>\n",
       "      <td>d1 = {'a': 100, 'b': 200}\\n\\nd2 = 'x': 300, 'y...</td>\n",
       "      <td>There is an error of type 'missing_bracket' on...</td>\n",
       "      <td>There is an error of type 'missing_bracket' on...</td>\n",
       "      <td>d1 = {'a': 100, 'b': 200}\\n\\nd2 = {'x': 300, '...</td>\n",
       "    </tr>\n",
       "    <tr>\n",
       "      <th>4</th>\n",
       "      <td>Below is an instruction for a coding task. Com...</td>\n",
       "      <td>\\n = 900\\n\\nupper = 1000\\n\\nprint(\"Prime numbe...</td>\n",
       "      <td>There is an error of type 'undefined_var' on t...</td>\n",
       "      <td>There is an error of type 'undefined_var' on t...</td>\n",
       "      <td>lower = 900\\n\\nupper = 1000\\n\\nprint(\"Prime nu...</td>\n",
       "    </tr>\n",
       "    <tr>\n",
       "      <th>...</th>\n",
       "      <td>...</td>\n",
       "      <td>...</td>\n",
       "      <td>...</td>\n",
       "      <td>...</td>\n",
       "      <td>...</td>\n",
       "    </tr>\n",
       "    <tr>\n",
       "      <th>10193</th>\n",
       "      <td>Below is an instruction for a coding task. Com...</td>\n",
       "      <td>x = {'a' : 1, 'b' : 2, 'c' : 3}\\n\\ny = {'x' : ...</td>\n",
       "      <td>There is an error of type 'missing_bracket' on...</td>\n",
       "      <td>There is an error of type 'missing_bracket' on...</td>\n",
       "      <td>x = {'a' : 1, 'b' : 2, 'c' : 3}\\n\\ny = {'x' : ...</td>\n",
       "    </tr>\n",
       "    <tr>\n",
       "      <th>10194</th>\n",
       "      <td>Below is an instruction for a coding task. Com...</td>\n",
       "      <td>(x, y) = (1, 2)\\n\\nprint(f'Before swapping: x:...</td>\n",
       "      <td>There is an error of type 'missing_comma' on t...</td>\n",
       "      <td>There is an error of type 'missing_comma' on t...</td>\n",
       "      <td>(x, y) = (1, 2)\\n\\nprint(f'Before swapping: x:...</td>\n",
       "    </tr>\n",
       "    <tr>\n",
       "      <th>10195</th>\n",
       "      <td>Below is an instruction for a coding task. Com...</td>\n",
       "      <td>\\nfile1 = open('file1.txt', 'r') \\n\\nfile2 = o...</td>\n",
       "      <td>There is an error of type 'undefined_var' on t...</td>\n",
       "      <td>There is an error of type 'undefined_var' on t...</td>\n",
       "      <td>file1 = open('file1.txt', 'r') \\n\\nfile2 = ope...</td>\n",
       "    </tr>\n",
       "    <tr>\n",
       "      <th>10196</th>\n",
       "      <td>Below is an instruction for a coding task. Com...</td>\n",
       "      <td>\\ndef list_op(l1,l2,op):\\n\\n  if(op=='append')...</td>\n",
       "      <td>There is an error of type 'missing_comma' on t...</td>\n",
       "      <td>There is an error of type 'missing_comma' on t...</td>\n",
       "      <td>def list_op(l1,l2,op):\\n\\n  if(op=='append'):\\...</td>\n",
       "    </tr>\n",
       "    <tr>\n",
       "      <th>10197</th>\n",
       "      <td>Below is an instruction for a coding task. Com...</td>\n",
       "      <td>import random\\n\\nheads = 0\\n\\ntails = 0\\n\\nfor...</td>\n",
       "      <td>There is an error of type 'missing_comma' on t...</td>\n",
       "      <td>There is an error of type 'missing_comma' on t...</td>\n",
       "      <td>import random\\n\\nheads = 0\\n\\ntails = 0\\n\\nfor...</td>\n",
       "    </tr>\n",
       "  </tbody>\n",
       "</table>\n",
       "<p>10198 rows × 5 columns</p>\n",
       "</div>"
      ],
      "text/plain": [
       "                                                  prompt  \\\n",
       "0      Below is an instruction for a coding task. Com...   \n",
       "1      Below is an instruction for a coding task. Com...   \n",
       "2      Below is an instruction for a coding task. Com...   \n",
       "3      Below is an instruction for a coding task. Com...   \n",
       "4      Below is an instruction for a coding task. Com...   \n",
       "...                                                  ...   \n",
       "10193  Below is an instruction for a coding task. Com...   \n",
       "10194  Below is an instruction for a coding task. Com...   \n",
       "10195  Below is an instruction for a coding task. Com...   \n",
       "10196  Below is an instruction for a coding task. Com...   \n",
       "10197  Below is an instruction for a coding task. Com...   \n",
       "\n",
       "                                                   input  \\\n",
       "0      def myfunc(listitems):\\n\\n    final=[]\\n\\n    ...   \n",
       "1      def tail(n, iterable)    \\n\\n    from collecti...   \n",
       "2      number_dict = {\\n\\n1: 'one',\\n\\n2: 'two',\\n\\n3...   \n",
       "3      d1 = {'a': 100, 'b': 200}\\n\\nd2 = 'x': 300, 'y...   \n",
       "4      \\n = 900\\n\\nupper = 1000\\n\\nprint(\"Prime numbe...   \n",
       "...                                                  ...   \n",
       "10193  x = {'a' : 1, 'b' : 2, 'c' : 3}\\n\\ny = {'x' : ...   \n",
       "10194  (x, y) = (1, 2)\\n\\nprint(f'Before swapping: x:...   \n",
       "10195  \\nfile1 = open('file1.txt', 'r') \\n\\nfile2 = o...   \n",
       "10196  \\ndef list_op(l1,l2,op):\\n\\n  if(op=='append')...   \n",
       "10197  import random\\n\\nheads = 0\\n\\ntails = 0\\n\\nfor...   \n",
       "\n",
       "                                                  output  \\\n",
       "0      There is an error of type 'missing_colon' on t...   \n",
       "1      There is an error of type 'missing_colon' on t...   \n",
       "2      There is an error of type 'missing_colon' on t...   \n",
       "3      There is an error of type 'missing_bracket' on...   \n",
       "4      There is an error of type 'undefined_var' on t...   \n",
       "...                                                  ...   \n",
       "10193  There is an error of type 'missing_bracket' on...   \n",
       "10194  There is an error of type 'missing_comma' on t...   \n",
       "10195  There is an error of type 'undefined_var' on t...   \n",
       "10196  There is an error of type 'missing_comma' on t...   \n",
       "10197  There is an error of type 'missing_comma' on t...   \n",
       "\n",
       "                                             explanation  \\\n",
       "0      There is an error of type 'missing_colon' on t...   \n",
       "1      There is an error of type 'missing_colon' on t...   \n",
       "2      There is an error of type 'missing_colon' on t...   \n",
       "3      There is an error of type 'missing_bracket' on...   \n",
       "4      There is an error of type 'undefined_var' on t...   \n",
       "...                                                  ...   \n",
       "10193  There is an error of type 'missing_bracket' on...   \n",
       "10194  There is an error of type 'missing_comma' on t...   \n",
       "10195  There is an error of type 'undefined_var' on t...   \n",
       "10196  There is an error of type 'missing_comma' on t...   \n",
       "10197  There is an error of type 'missing_comma' on t...   \n",
       "\n",
       "                                            correct_code  \n",
       "0      def myfunc(listitems):\\n\\n    final=[]\\n\\n    ...  \n",
       "1      def tail(n, iterable):    \\n\\n    from collect...  \n",
       "2      number_dict = {\\n\\n1: 'one',\\n\\n2: 'two',\\n\\n3...  \n",
       "3      d1 = {'a': 100, 'b': 200}\\n\\nd2 = {'x': 300, '...  \n",
       "4      lower = 900\\n\\nupper = 1000\\n\\nprint(\"Prime nu...  \n",
       "...                                                  ...  \n",
       "10193  x = {'a' : 1, 'b' : 2, 'c' : 3}\\n\\ny = {'x' : ...  \n",
       "10194  (x, y) = (1, 2)\\n\\nprint(f'Before swapping: x:...  \n",
       "10195  file1 = open('file1.txt', 'r') \\n\\nfile2 = ope...  \n",
       "10196  def list_op(l1,l2,op):\\n\\n  if(op=='append'):\\...  \n",
       "10197  import random\\n\\nheads = 0\\n\\ntails = 0\\n\\nfor...  \n",
       "\n",
       "[10198 rows x 5 columns]"
      ]
     },
     "execution_count": 97,
     "metadata": {},
     "output_type": "execute_result"
    }
   ],
   "source": [
    "table = table.drop(columns=['train'])\n",
    "table"
   ]
  },
  {
   "cell_type": "code",
   "execution_count": 99,
   "id": "702077ac-35a4-46d3-b8d0-c1c749907851",
   "metadata": {},
   "outputs": [
    {
     "name": "stdout",
     "output_type": "stream",
     "text": [
      "Below is an instruction for a coding task. Complete the task by writing python code, and explaining it.     10198\n",
      "Name: prompt, dtype: int64\n"
     ]
    }
   ],
   "source": [
    "print(table['prompt'].value_counts())"
   ]
  },
  {
   "cell_type": "code",
   "execution_count": 100,
   "id": "acf19128-ab39-4cd2-9893-6389a2e9b783",
   "metadata": {},
   "outputs": [
    {
     "name": "stdout",
     "output_type": "stream",
     "text": [
      "Duplicates num in 'input' column: 3103\n",
      "Duplicates num in 'output' column: 3103\n",
      "NaN in prompt: 0\n",
      "NaN in input: 0\n",
      "NaN in output: 0\n",
      "NaN in explanation: 0\n",
      "NaN in correct_code: 0\n"
     ]
    }
   ],
   "source": [
    "print(f\"Duplicates num in 'input' column: {table['input'].duplicated().sum()}\")\n",
    "print(f\"Duplicates num in 'output' column: {table['input'].duplicated().sum()}\")\n",
    "\n",
    "for column in table.columns:\n",
    "    print(f\"NaN in {column}: {table[column].isna().sum()}\")"
   ]
  },
  {
   "cell_type": "code",
   "execution_count": 101,
   "id": "d4c2fd59-61bf-40c3-870c-d9d53278cd90",
   "metadata": {},
   "outputs": [],
   "source": [
    "table_uniq = table.drop_duplicates(subset=['input', 'output'],\n",
    "                                   keep='first')\n",
    "\n",
    "table_uniq = table_uniq.reset_index(drop=True)"
   ]
  },
  {
   "cell_type": "code",
   "execution_count": 102,
   "id": "e4776cc5-9a1f-4a1d-9a20-f150050b0884",
   "metadata": {},
   "outputs": [
    {
     "name": "stdout",
     "output_type": "stream",
     "text": [
      "New dataset size: (7095, 5)\n",
      "Duplicates num in 'input' column: 0\n",
      "Duplicates num in 'output' column: 0\n"
     ]
    }
   ],
   "source": [
    "print(f\"New dataset size: {table_uniq.shape}\")\n",
    "print(f\"Duplicates num in 'input' column: {table_uniq['input'].duplicated().sum()}\")\n",
    "print(f\"Duplicates num in 'output' column: {table_uniq['input'].duplicated().sum()}\")"
   ]
  },
  {
   "cell_type": "code",
   "execution_count": 103,
   "id": "0cc6afc6-95c6-40be-910a-91ceaa58f43a",
   "metadata": {},
   "outputs": [
    {
     "name": "stdout",
     "output_type": "stream",
     "text": [
      "Final table:\n"
     ]
    },
    {
     "data": {
      "text/html": [
       "<div>\n",
       "<style scoped>\n",
       "    .dataframe tbody tr th:only-of-type {\n",
       "        vertical-align: middle;\n",
       "    }\n",
       "\n",
       "    .dataframe tbody tr th {\n",
       "        vertical-align: top;\n",
       "    }\n",
       "\n",
       "    .dataframe thead th {\n",
       "        text-align: right;\n",
       "    }\n",
       "</style>\n",
       "<table border=\"1\" class=\"dataframe\">\n",
       "  <thead>\n",
       "    <tr style=\"text-align: right;\">\n",
       "      <th></th>\n",
       "      <th>prompt</th>\n",
       "      <th>input</th>\n",
       "      <th>output</th>\n",
       "      <th>explanation</th>\n",
       "      <th>correct_code</th>\n",
       "    </tr>\n",
       "  </thead>\n",
       "  <tbody>\n",
       "    <tr>\n",
       "      <th>0</th>\n",
       "      <td>Below is an instruction for a coding task. Com...</td>\n",
       "      <td>def myfunc(listitems):\\n\\n    final=[]\\n\\n    ...</td>\n",
       "      <td>There is an error of type 'missing_colon' on t...</td>\n",
       "      <td>There is an error of type 'missing_colon' on t...</td>\n",
       "      <td>def myfunc(listitems):\\n\\n    final=[]\\n\\n    ...</td>\n",
       "    </tr>\n",
       "    <tr>\n",
       "      <th>1</th>\n",
       "      <td>Below is an instruction for a coding task. Com...</td>\n",
       "      <td>def tail(n, iterable)    \\n\\n    from collecti...</td>\n",
       "      <td>There is an error of type 'missing_colon' on t...</td>\n",
       "      <td>There is an error of type 'missing_colon' on t...</td>\n",
       "      <td>def tail(n, iterable):    \\n\\n    from collect...</td>\n",
       "    </tr>\n",
       "    <tr>\n",
       "      <th>2</th>\n",
       "      <td>Below is an instruction for a coding task. Com...</td>\n",
       "      <td>number_dict = {\\n\\n1: 'one',\\n\\n2: 'two',\\n\\n3...</td>\n",
       "      <td>There is an error of type 'missing_colon' on t...</td>\n",
       "      <td>There is an error of type 'missing_colon' on t...</td>\n",
       "      <td>number_dict = {\\n\\n1: 'one',\\n\\n2: 'two',\\n\\n3...</td>\n",
       "    </tr>\n",
       "    <tr>\n",
       "      <th>3</th>\n",
       "      <td>Below is an instruction for a coding task. Com...</td>\n",
       "      <td>d1 = {'a': 100, 'b': 200}\\n\\nd2 = 'x': 300, 'y...</td>\n",
       "      <td>There is an error of type 'missing_bracket' on...</td>\n",
       "      <td>There is an error of type 'missing_bracket' on...</td>\n",
       "      <td>d1 = {'a': 100, 'b': 200}\\n\\nd2 = {'x': 300, '...</td>\n",
       "    </tr>\n",
       "    <tr>\n",
       "      <th>4</th>\n",
       "      <td>Below is an instruction for a coding task. Com...</td>\n",
       "      <td>\\n = 900\\n\\nupper = 1000\\n\\nprint(\"Prime numbe...</td>\n",
       "      <td>There is an error of type 'undefined_var' on t...</td>\n",
       "      <td>There is an error of type 'undefined_var' on t...</td>\n",
       "      <td>lower = 900\\n\\nupper = 1000\\n\\nprint(\"Prime nu...</td>\n",
       "    </tr>\n",
       "    <tr>\n",
       "      <th>...</th>\n",
       "      <td>...</td>\n",
       "      <td>...</td>\n",
       "      <td>...</td>\n",
       "      <td>...</td>\n",
       "      <td>...</td>\n",
       "    </tr>\n",
       "    <tr>\n",
       "      <th>7090</th>\n",
       "      <td>Below is an instruction for a coding task. Com...</td>\n",
       "      <td>\\nprint(\"Input a string: \")\\n\\nstr1 = input()\\...</td>\n",
       "      <td>There is an error of type 'missing_colon' on t...</td>\n",
       "      <td>There is an error of type 'missing_colon' on t...</td>\n",
       "      <td>print(\"Input a string: \")\\n\\nstr1 = input()\\n\\...</td>\n",
       "    </tr>\n",
       "    <tr>\n",
       "      <th>7091</th>\n",
       "      <td>Below is an instruction for a coding task. Com...</td>\n",
       "      <td>a = 10\\n\\nb = 20\\n\\nc = 30\\n\\nif 10 in {a, b, ...</td>\n",
       "      <td>There is an error of type 'missing_colon' on t...</td>\n",
       "      <td>There is an error of type 'missing_colon' on t...</td>\n",
       "      <td>a = 10\\n\\nb = 20\\n\\nc = 30\\n\\nif 10 in {a, b, ...</td>\n",
       "    </tr>\n",
       "    <tr>\n",
       "      <th>7092</th>\n",
       "      <td>Below is an instruction for a coding task. Com...</td>\n",
       "      <td>def binary_palindrome(n)\\n\\n\\ts=int(bin(n)[2:]...</td>\n",
       "      <td>There is an error of type 'missing_colon' on t...</td>\n",
       "      <td>There is an error of type 'missing_colon' on t...</td>\n",
       "      <td>def binary_palindrome(n):\\n\\n\\ts=int(bin(n)[2:...</td>\n",
       "    </tr>\n",
       "    <tr>\n",
       "      <th>7093</th>\n",
       "      <td>Below is an instruction for a coding task. Com...</td>\n",
       "      <td>kilometers = 10.0\\n\\nconv_fac = 0.621371\\n\\nmi...</td>\n",
       "      <td>There is an error of type 'missing_comma' on t...</td>\n",
       "      <td>There is an error of type 'missing_comma' on t...</td>\n",
       "      <td>kilometers = 10.0\\n\\nconv_fac = 0.621371\\n\\nmi...</td>\n",
       "    </tr>\n",
       "    <tr>\n",
       "      <th>7094</th>\n",
       "      <td>Below is an instruction for a coding task. Com...</td>\n",
       "      <td>\\nfile1 = open('file1.txt', 'r') \\n\\nfile2 = o...</td>\n",
       "      <td>There is an error of type 'undefined_var' on t...</td>\n",
       "      <td>There is an error of type 'undefined_var' on t...</td>\n",
       "      <td>file1 = open('file1.txt', 'r') \\n\\nfile2 = ope...</td>\n",
       "    </tr>\n",
       "  </tbody>\n",
       "</table>\n",
       "<p>7095 rows × 5 columns</p>\n",
       "</div>"
      ],
      "text/plain": [
       "                                                 prompt  \\\n",
       "0     Below is an instruction for a coding task. Com...   \n",
       "1     Below is an instruction for a coding task. Com...   \n",
       "2     Below is an instruction for a coding task. Com...   \n",
       "3     Below is an instruction for a coding task. Com...   \n",
       "4     Below is an instruction for a coding task. Com...   \n",
       "...                                                 ...   \n",
       "7090  Below is an instruction for a coding task. Com...   \n",
       "7091  Below is an instruction for a coding task. Com...   \n",
       "7092  Below is an instruction for a coding task. Com...   \n",
       "7093  Below is an instruction for a coding task. Com...   \n",
       "7094  Below is an instruction for a coding task. Com...   \n",
       "\n",
       "                                                  input  \\\n",
       "0     def myfunc(listitems):\\n\\n    final=[]\\n\\n    ...   \n",
       "1     def tail(n, iterable)    \\n\\n    from collecti...   \n",
       "2     number_dict = {\\n\\n1: 'one',\\n\\n2: 'two',\\n\\n3...   \n",
       "3     d1 = {'a': 100, 'b': 200}\\n\\nd2 = 'x': 300, 'y...   \n",
       "4     \\n = 900\\n\\nupper = 1000\\n\\nprint(\"Prime numbe...   \n",
       "...                                                 ...   \n",
       "7090  \\nprint(\"Input a string: \")\\n\\nstr1 = input()\\...   \n",
       "7091  a = 10\\n\\nb = 20\\n\\nc = 30\\n\\nif 10 in {a, b, ...   \n",
       "7092  def binary_palindrome(n)\\n\\n\\ts=int(bin(n)[2:]...   \n",
       "7093  kilometers = 10.0\\n\\nconv_fac = 0.621371\\n\\nmi...   \n",
       "7094  \\nfile1 = open('file1.txt', 'r') \\n\\nfile2 = o...   \n",
       "\n",
       "                                                 output  \\\n",
       "0     There is an error of type 'missing_colon' on t...   \n",
       "1     There is an error of type 'missing_colon' on t...   \n",
       "2     There is an error of type 'missing_colon' on t...   \n",
       "3     There is an error of type 'missing_bracket' on...   \n",
       "4     There is an error of type 'undefined_var' on t...   \n",
       "...                                                 ...   \n",
       "7090  There is an error of type 'missing_colon' on t...   \n",
       "7091  There is an error of type 'missing_colon' on t...   \n",
       "7092  There is an error of type 'missing_colon' on t...   \n",
       "7093  There is an error of type 'missing_comma' on t...   \n",
       "7094  There is an error of type 'undefined_var' on t...   \n",
       "\n",
       "                                            explanation  \\\n",
       "0     There is an error of type 'missing_colon' on t...   \n",
       "1     There is an error of type 'missing_colon' on t...   \n",
       "2     There is an error of type 'missing_colon' on t...   \n",
       "3     There is an error of type 'missing_bracket' on...   \n",
       "4     There is an error of type 'undefined_var' on t...   \n",
       "...                                                 ...   \n",
       "7090  There is an error of type 'missing_colon' on t...   \n",
       "7091  There is an error of type 'missing_colon' on t...   \n",
       "7092  There is an error of type 'missing_colon' on t...   \n",
       "7093  There is an error of type 'missing_comma' on t...   \n",
       "7094  There is an error of type 'undefined_var' on t...   \n",
       "\n",
       "                                           correct_code  \n",
       "0     def myfunc(listitems):\\n\\n    final=[]\\n\\n    ...  \n",
       "1     def tail(n, iterable):    \\n\\n    from collect...  \n",
       "2     number_dict = {\\n\\n1: 'one',\\n\\n2: 'two',\\n\\n3...  \n",
       "3     d1 = {'a': 100, 'b': 200}\\n\\nd2 = {'x': 300, '...  \n",
       "4     lower = 900\\n\\nupper = 1000\\n\\nprint(\"Prime nu...  \n",
       "...                                                 ...  \n",
       "7090  print(\"Input a string: \")\\n\\nstr1 = input()\\n\\...  \n",
       "7091  a = 10\\n\\nb = 20\\n\\nc = 30\\n\\nif 10 in {a, b, ...  \n",
       "7092  def binary_palindrome(n):\\n\\n\\ts=int(bin(n)[2:...  \n",
       "7093  kilometers = 10.0\\n\\nconv_fac = 0.621371\\n\\nmi...  \n",
       "7094  file1 = open('file1.txt', 'r') \\n\\nfile2 = ope...  \n",
       "\n",
       "[7095 rows x 5 columns]"
      ]
     },
     "execution_count": 103,
     "metadata": {},
     "output_type": "execute_result"
    }
   ],
   "source": [
    "print(\"Final table:\")\n",
    "table_uniq"
   ]
  },
  {
   "cell_type": "code",
   "execution_count": 106,
   "id": "bf116a01-1377-429b-8199-2f064a654979",
   "metadata": {},
   "outputs": [],
   "source": [
    "table_uniq.to_csv(\"Datasets/preprocessed_data/rag_data.csv\", index=False)"
   ]
  },
  {
   "cell_type": "markdown",
   "id": "04871e21-9818-4a30-b467-32b93265dce3",
   "metadata": {
    "jp-MarkdownHeadingCollapsed": true
   },
   "source": [
    "# Export into json"
   ]
  },
  {
   "cell_type": "code",
   "execution_count": null,
   "id": "4be04ea1-01a4-42a6-b77f-7ce096c1beeb",
   "metadata": {},
   "outputs": [],
   "source": [
    "    {\n",
    "        \"prompt\": \"Fix this code\",\n",
    "        \"input\": \"print 'Hello World'\",\n",
    "        \"output\": {\n",
    "            \"corrected_code\": \"print('Hello World')\",\n",
    "            \"explanation\": \"SyntaxError: Use parentheses for print in Python 3.\"\n",
    "        }"
   ]
  },
  {
   "cell_type": "code",
   "execution_count": 109,
   "id": "82759789-48f9-48e7-ba5f-59e34a6cfb40",
   "metadata": {},
   "outputs": [],
   "source": [
    "table_js = table_uniq.drop(columns=['output'])\n",
    "json_data = table_js.to_json(orient=\"records\", indent=4)\n",
    "\n",
    "with open(\"Datasets/preprocessed_data/rag_data.json\", \"w\") as json_file:\n",
    "    json_file.write(json_data)"
   ]
  },
  {
   "cell_type": "markdown",
   "id": "3cc8ba79",
   "metadata": {},
   "source": [
    "# RAG system\n"
   ]
  },
  {
   "cell_type": "markdown",
   "id": "ab6c54d2",
   "metadata": {
    "jp-MarkdownHeadingCollapsed": true
   },
   "source": [
    "## Data prep"
   ]
  },
  {
   "cell_type": "code",
   "execution_count": 9,
   "id": "47f94b0d-402c-4b9e-8f2f-a8ff4355ebf7",
   "metadata": {},
   "outputs": [],
   "source": [
    "import json\n",
    "import faiss\n",
    "import numpy as np\n",
    "from sentence_transformers import SentenceTransformer"
   ]
  },
  {
   "cell_type": "code",
   "execution_count": 8,
   "id": "b50d41a5-43b1-42bf-a5ef-b2ec5ef6b93e",
   "metadata": {},
   "outputs": [],
   "source": [
    "with open(\"../../Datasets/preprocessed_data/rag_data.json\", \"r\") as file:\n",
    "    data = json.load(file)"
   ]
  },
  {
   "cell_type": "code",
   "execution_count": 10,
   "id": "b85bed4f-5ce0-4050-b90c-f80b83f5f789",
   "metadata": {},
   "outputs": [],
   "source": [
    "texts = [f\"{entry['prompt']} {entry['input']}\" for entry in data]"
   ]
  },
  {
   "cell_type": "code",
   "execution_count": 11,
   "id": "4e3d8d1c-f5f9-43a8-bf24-2e2345246360",
   "metadata": {},
   "outputs": [
    {
     "data": {
      "application/vnd.jupyter.widget-view+json": {
       "model_id": "719e47731c84450f8cb8918284f9ac57",
       "version_major": 2,
       "version_minor": 0
      },
      "text/plain": [
       "modules.json:   0%|          | 0.00/349 [00:00<?, ?B/s]"
      ]
     },
     "metadata": {},
     "output_type": "display_data"
    },
    {
     "data": {
      "application/vnd.jupyter.widget-view+json": {
       "model_id": "30837c1f69ea4c308dd7da07aa068378",
       "version_major": 2,
       "version_minor": 0
      },
      "text/plain": [
       "config_sentence_transformers.json:   0%|          | 0.00/116 [00:00<?, ?B/s]"
      ]
     },
     "metadata": {},
     "output_type": "display_data"
    },
    {
     "data": {
      "application/vnd.jupyter.widget-view+json": {
       "model_id": "7ea3c06b8f3140c898b73d86bead7f06",
       "version_major": 2,
       "version_minor": 0
      },
      "text/plain": [
       "README.md:   0%|          | 0.00/10.7k [00:00<?, ?B/s]"
      ]
     },
     "metadata": {},
     "output_type": "display_data"
    },
    {
     "data": {
      "application/vnd.jupyter.widget-view+json": {
       "model_id": "66cad566b42c4919bf49c0c13a699155",
       "version_major": 2,
       "version_minor": 0
      },
      "text/plain": [
       "sentence_bert_config.json:   0%|          | 0.00/53.0 [00:00<?, ?B/s]"
      ]
     },
     "metadata": {},
     "output_type": "display_data"
    },
    {
     "data": {
      "application/vnd.jupyter.widget-view+json": {
       "model_id": "62268fcbaffc45c78a368c6650b6f51b",
       "version_major": 2,
       "version_minor": 0
      },
      "text/plain": [
       "config.json:   0%|          | 0.00/612 [00:00<?, ?B/s]"
      ]
     },
     "metadata": {},
     "output_type": "display_data"
    },
    {
     "data": {
      "application/vnd.jupyter.widget-view+json": {
       "model_id": "7efc652d6afc4f69b33d57318b394154",
       "version_major": 2,
       "version_minor": 0
      },
      "text/plain": [
       "model.safetensors:   0%|          | 0.00/90.9M [00:00<?, ?B/s]"
      ]
     },
     "metadata": {},
     "output_type": "display_data"
    },
    {
     "data": {
      "application/vnd.jupyter.widget-view+json": {
       "model_id": "1b6ae15c1b264399be83cb6183001383",
       "version_major": 2,
       "version_minor": 0
      },
      "text/plain": [
       "tokenizer_config.json:   0%|          | 0.00/350 [00:00<?, ?B/s]"
      ]
     },
     "metadata": {},
     "output_type": "display_data"
    },
    {
     "data": {
      "application/vnd.jupyter.widget-view+json": {
       "model_id": "4cccaf6fe8344f23b6d871130399ae9a",
       "version_major": 2,
       "version_minor": 0
      },
      "text/plain": [
       "vocab.txt:   0%|          | 0.00/232k [00:00<?, ?B/s]"
      ]
     },
     "metadata": {},
     "output_type": "display_data"
    },
    {
     "data": {
      "application/vnd.jupyter.widget-view+json": {
       "model_id": "25016f3625344488ba3c7b20b62f09af",
       "version_major": 2,
       "version_minor": 0
      },
      "text/plain": [
       "tokenizer.json:   0%|          | 0.00/466k [00:00<?, ?B/s]"
      ]
     },
     "metadata": {},
     "output_type": "display_data"
    },
    {
     "data": {
      "application/vnd.jupyter.widget-view+json": {
       "model_id": "7f17f29fef15490abb9991e80c61ebe9",
       "version_major": 2,
       "version_minor": 0
      },
      "text/plain": [
       "special_tokens_map.json:   0%|          | 0.00/112 [00:00<?, ?B/s]"
      ]
     },
     "metadata": {},
     "output_type": "display_data"
    },
    {
     "data": {
      "application/vnd.jupyter.widget-view+json": {
       "model_id": "eceaa738341d43709caf9d6dfad644fb",
       "version_major": 2,
       "version_minor": 0
      },
      "text/plain": [
       "1_Pooling/config.json:   0%|          | 0.00/190 [00:00<?, ?B/s]"
      ]
     },
     "metadata": {},
     "output_type": "display_data"
    }
   ],
   "source": [
    "model = SentenceTransformer(\"all-MiniLM-L6-v2\")  \n",
    "embeddings = model.encode(texts, convert_to_numpy=True)\n",
    "embeddings = np.array([embedding / np.linalg.norm(embedding) for embedding in embeddings])"
   ]
  },
  {
   "cell_type": "code",
   "execution_count": 12,
   "id": "2a45d965-818a-4d63-b3ec-98f82a69b87e",
   "metadata": {},
   "outputs": [],
   "source": [
    "dimension = embeddings.shape[1]\n",
    "index = faiss.IndexFlatIP(dimension)  \n",
    "index.add(embeddings)"
   ]
  },
  {
   "cell_type": "code",
   "execution_count": 13,
   "id": "57e6b735",
   "metadata": {},
   "outputs": [],
   "source": [
    "faiss.write_index(index, \"retriever_index.faiss\")"
   ]
  },
  {
   "cell_type": "markdown",
   "id": "81fa58c6",
   "metadata": {
    "jp-MarkdownHeadingCollapsed": true
   },
   "source": [
    "## query index"
   ]
  },
  {
   "cell_type": "code",
   "execution_count": 15,
   "id": "6fe85c7a-379e-4388-9d02-a544aaf8316d",
   "metadata": {},
   "outputs": [],
   "source": [
    "index = faiss.read_index(\"retriever_index.faiss\")"
   ]
  },
  {
   "cell_type": "code",
   "execution_count": 16,
   "id": "e609aeb2-9c25-4aca-8b09-0024be36e940",
   "metadata": {},
   "outputs": [],
   "source": [
    "query = \"why is my code not working? for i in range(5): print i\""
   ]
  },
  {
   "cell_type": "code",
   "execution_count": 17,
   "id": "263a5817-d5c9-4bd4-a9da-0a2e06ed25f4",
   "metadata": {},
   "outputs": [],
   "source": [
    "query_embedding = model.encode([query], convert_to_numpy=True)\n",
    "query_embedding = query_embedding / np.linalg.norm(query_embedding)"
   ]
  },
  {
   "cell_type": "code",
   "execution_count": 18,
   "id": "eb4fafa0",
   "metadata": {},
   "outputs": [],
   "source": [
    "k = 5  # num of results to retrieve\n",
    "distances, indices = index.search(query_embedding, k)"
   ]
  },
  {
   "cell_type": "code",
   "execution_count": 19,
   "id": "9ce383ed-ebbc-4670-b13f-3396096b6c5e",
   "metadata": {},
   "outputs": [],
   "source": [
    "results = [data[idx] for idx in indices[0]]\n",
    "\n",
    "#for i, result in enumerate(results):\n",
    "#    print(f\"Result {i + 1}:\")\n",
    "#    print(f\"Prompt: {result['prompt']}\")\n",
    "#    print(f\"Input: {result['input']}\")\n",
    "#    print(f\"Explanation: {result['explanation']}\\n\")"
   ]
  },
  {
   "cell_type": "markdown",
   "id": "31c69ac7",
   "metadata": {
    "jp-MarkdownHeadingCollapsed": true
   },
   "source": [
    "## generator"
   ]
  },
  {
   "cell_type": "code",
   "execution_count": 20,
   "id": "ea4cacce-39aa-4682-89c0-0df3ff2b68bf",
   "metadata": {},
   "outputs": [],
   "source": [
    "from transformers import pipeline"
   ]
  },
  {
   "cell_type": "code",
   "execution_count": 21,
   "id": "b213814f-e5cf-495f-af90-63857e173792",
   "metadata": {},
   "outputs": [
    {
     "data": {
      "application/vnd.jupyter.widget-view+json": {
       "model_id": "925699ddadc34950b5db7871c675166c",
       "version_major": 2,
       "version_minor": 0
      },
      "text/plain": [
       "config.json:   0%|          | 0.00/1.40k [00:00<?, ?B/s]"
      ]
     },
     "metadata": {},
     "output_type": "display_data"
    },
    {
     "data": {
      "application/vnd.jupyter.widget-view+json": {
       "model_id": "d256a25872c94b499bd77658687abd10",
       "version_major": 2,
       "version_minor": 0
      },
      "text/plain": [
       "model.safetensors:   0%|          | 0.00/308M [00:00<?, ?B/s]"
      ]
     },
     "metadata": {},
     "output_type": "display_data"
    },
    {
     "data": {
      "application/vnd.jupyter.widget-view+json": {
       "model_id": "9521d554e3244cfd8cce8bf69e234fd4",
       "version_major": 2,
       "version_minor": 0
      },
      "text/plain": [
       "generation_config.json:   0%|          | 0.00/147 [00:00<?, ?B/s]"
      ]
     },
     "metadata": {},
     "output_type": "display_data"
    },
    {
     "data": {
      "application/vnd.jupyter.widget-view+json": {
       "model_id": "5c612fae25d248ebab5d8b8bcafd744c",
       "version_major": 2,
       "version_minor": 0
      },
      "text/plain": [
       "tokenizer_config.json:   0%|          | 0.00/2.54k [00:00<?, ?B/s]"
      ]
     },
     "metadata": {},
     "output_type": "display_data"
    },
    {
     "data": {
      "application/vnd.jupyter.widget-view+json": {
       "model_id": "748b2364b0654d67beaa658745f7cab7",
       "version_major": 2,
       "version_minor": 0
      },
      "text/plain": [
       "spiece.model:   0%|          | 0.00/792k [00:00<?, ?B/s]"
      ]
     },
     "metadata": {},
     "output_type": "display_data"
    },
    {
     "data": {
      "application/vnd.jupyter.widget-view+json": {
       "model_id": "de92f00286814d23afe2fa93a433f55b",
       "version_major": 2,
       "version_minor": 0
      },
      "text/plain": [
       "tokenizer.json:   0%|          | 0.00/2.42M [00:00<?, ?B/s]"
      ]
     },
     "metadata": {},
     "output_type": "display_data"
    },
    {
     "data": {
      "application/vnd.jupyter.widget-view+json": {
       "model_id": "ed19bd77255b44d4a70eca8d71efed87",
       "version_major": 2,
       "version_minor": 0
      },
      "text/plain": [
       "special_tokens_map.json:   0%|          | 0.00/2.20k [00:00<?, ?B/s]"
      ]
     },
     "metadata": {},
     "output_type": "display_data"
    },
    {
     "name": "stderr",
     "output_type": "stream",
     "text": [
      "Device set to use cuda:0\n"
     ]
    }
   ],
   "source": [
    "generator = pipeline(\"text2text-generation\", model=\"google/flan-t5-small\")"
   ]
  },
  {
   "cell_type": "code",
   "execution_count": 29,
   "id": "bb9f7f3b-2bb0-45df-8498-6e7a91e12a10",
   "metadata": {},
   "outputs": [],
   "source": [
    "def generate_response(query, retrieved_examples):\n",
    "    context = \"\\n\".join(\n",
    "        [f\"Example {i+1}:\\nPrompt: {ex['prompt']}\\nInput: {ex['input']}\\nExplanation: {ex['explanation']}\"\n",
    "         for i, ex in enumerate(retrieved_examples)]\n",
    "    )\n",
    "\n",
    "    combined_input = (\n",
    "        f\"User Query:\\n{query}\\n\\n\"\n",
    "        f\"Relevant Examples:\\n{context}\\n\\n\"\n",
    "        f\"Provide error analysis, explanation, and corrected code based on the query and examples above.\"\n",
    "    )\n",
    "\n",
    "    response = generator(combined_input, max_length=512, do_sample=True, top_p=0.95, temperature=0.7)\n",
    "    return response[0]['generated_text']"
   ]
  },
  {
   "cell_type": "code",
   "execution_count": 30,
   "id": "6764b698-37c3-410a-a043-63846c507c74",
   "metadata": {},
   "outputs": [],
   "source": [
    "query = \"Why is my python code not working?\\nfor i in range(5):\\n\\t print i\""
   ]
  },
  {
   "cell_type": "code",
   "execution_count": 31,
   "id": "a3c7e7bf",
   "metadata": {},
   "outputs": [
    {
     "name": "stdout",
     "output_type": "stream",
     "text": [
      "Generated response: i = 11 - 1 for j in range(start,end): if (i > 1): for j in range(2i): if (i % j == 0): break else: print(i) ###\n"
     ]
    }
   ],
   "source": [
    "retrieved_results = results\n",
    "response = generate_response(query, retrieved_results)\n",
    "\n",
    "print(f\"Generated response: {response}\")"
   ]
  },
  {
   "cell_type": "markdown",
   "id": "152e52de",
   "metadata": {},
   "source": [
    "## validate ----- optional?????"
   ]
  },
  {
   "cell_type": "code",
   "execution_count": 32,
   "id": "bae2561a-4ef7-4fc3-b120-aa6fbb59e3fb",
   "metadata": {},
   "outputs": [],
   "source": [
    "import subprocess"
   ]
  },
  {
   "cell_type": "code",
   "execution_count": 33,
   "id": "35833028-e9f7-4397-a5f3-678cd93936f1",
   "metadata": {},
   "outputs": [],
   "source": [
    "def validate_code(corrected_code):\n",
    "    try:\n",
    "        with open(\"temp_code.py\", \"w\") as temp_file:\n",
    "            temp_file.write(corrected_code)\n",
    "        \n",
    "        result = subprocess.run([\"python\", \"temp_code.py\"], capture_output=True, text=True, check=True)\n",
    "        return {\"status\": \"success\", \"output\": result.stdout}\n",
    "    \n",
    "    except subprocess.CalledProcessError as e:\n",
    "        return {\"status\": \"error\", \"error\": e.stderr}"
   ]
  },
  {
   "cell_type": "code",
   "execution_count": 39,
   "id": "f8c38bab-3ea8-4f30-ae80-1a711cf5baba",
   "metadata": {},
   "outputs": [],
   "source": [
    "# Example corrected code to validate\n",
    "corrected_code = \\\n",
    "\"\"\"for i in range(5):\n",
    "    print(i)\"\"\""
   ]
  },
  {
   "cell_type": "code",
   "execution_count": 36,
   "id": "e3dea394-bbea-4a0e-94ff-ce3a3659a52f",
   "metadata": {},
   "outputs": [
    {
     "name": "stdout",
     "output_type": "stream",
     "text": [
      "Code executed successfully!\n"
     ]
    }
   ],
   "source": [
    "validation_result = validate_code(corrected_code)\n",
    "\n",
    "if validation_result['status'] == \"success\":\n",
    "    print(\"Code executed successfully!\")\n",
    "    # print(\"Output:\", validation_result['output'])\n",
    "else:\n",
    "    print(\"Code contains errors!\")\n",
    "    # print(\"Error:\", validation_result['error'])"
   ]
  },
  {
   "cell_type": "code",
   "execution_count": null,
   "id": "0c42ef26-412c-4ab3-91e3-d7009c9b0349",
   "metadata": {},
   "outputs": [],
   "source": []
  }
 ],
 "metadata": {
  "kernelspec": {
   "display_name": "Python 3 (ipykernel)",
   "language": "python",
   "name": "python3"
  },
  "language_info": {
   "codemirror_mode": {
    "name": "ipython",
    "version": 3
   },
   "file_extension": ".py",
   "mimetype": "text/x-python",
   "name": "python",
   "nbconvert_exporter": "python",
   "pygments_lexer": "ipython3",
   "version": "3.11.0"
  }
 },
 "nbformat": 4,
 "nbformat_minor": 5
}
